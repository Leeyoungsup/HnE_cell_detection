{
 "cells": [
  {
   "cell_type": "code",
   "execution_count": null,
   "id": "bdaafb28",
   "metadata": {},
   "outputs": [],
   "source": [
    "from PIL import Image\n",
    "import os\n",
    "import numpy as np\n",
    "import random\n",
    "from glob import glob\n",
    "from tqdm import tqdm\n",
    "import shutil\n",
    "from scipy.io import loadmat, savemat \n",
    "import csv\n",
    "import matplotlib.pyplot as plt\n",
    "import json\n",
    "from copy import deepcopy\n",
    "def create_dir(directory):\n",
    "    if not os.path.exists(directory):\n",
    "        os.makedirs(directory)\n",
    "        \n",
    "base_json={\n",
    "    \"file_name\": \"\",\n",
    "    \"cordinates\": [], #[class, x_min, y_min, x_max, y_max]\n",
    "}"
   ]
  },
  {
   "cell_type": "markdown",
   "id": "495f8c1d",
   "metadata": {},
   "source": [
    "Lizard processing"
   ]
  },
  {
   "cell_type": "code",
   "execution_count": null,
   "id": "341f208d",
   "metadata": {},
   "outputs": [],
   "source": [
    "file_path='../../data/HnE_cell_detect/Lizard/'\n",
    "image_list=glob(file_path+'lizard_images*/Lizard_Images*/*.png')\n",
    "label_list=glob(file_path+'lizard_labels/Lizard_Labels/Labels/*.mat')\n",
    "save_file_path='../../data/HnE_cell_detect/total_data/'\n",
    "create_dir(save_file_path+'images/')\n",
    "create_dir(save_file_path+'labels/')\n",
    "class_label={1:\"Neutrophil\",\n",
    "             2:\"Epithelial\",\n",
    "             3:\"Lymphocyte\",\n",
    "             4:\"Plasma\",\n",
    "             5:\"Eosinophil\",\n",
    "             6:\"Connective tissue\",}\n",
    "class_count={\n",
    "    \"Neutrophil\":0,\n",
    "    \"Epithelial\":0,\n",
    "    \"Lymphocyte\":0,\n",
    "    \"Plasma\":0,\n",
    "    \"Eosinophil\":0,\n",
    "    \"Connective tissue\":0,\n",
    "}\n",
    "for idx in tqdm(range(len(image_list))):\n",
    "    json_data=deepcopy(base_json)\n",
    "    json_data['file_name'] = os.path.basename(label_list[idx]).replace('.mat', '.png')\n",
    "    data = loadmat(label_list[idx])\n",
    "    \n",
    "    for i in range(data['bbox'].shape[0]):\n",
    "        temp_cordinates=[0,0,0,0,0]\n",
    "        temp_cordinates[0] = int(data['class'][i][0])\n",
    "        temp_cordinates[1] = int(data['bbox'][i][2])\n",
    "        temp_cordinates[2] = int(data['bbox'][i][0])\n",
    "        temp_cordinates[3] = int(data['bbox'][i][3])\n",
    "        temp_cordinates[4] = int(data['bbox'][i][1])\n",
    "        json_data['cordinates'].append(temp_cordinates)\n",
    "        class_count[class_label[temp_cordinates[0]]]+=1\n",
    "    shutil.copy(image_list[idx], save_file_path+'images/'+os.path.basename(image_list[idx]))\n",
    "    with open(save_file_path+'labels/'+os.path.basename(label_list[idx]).replace('.mat', '.json'), 'w') as f:\n",
    "        json.dump(json_data, f, indent=2)\n"
   ]
  }
 ],
 "metadata": {
  "kernelspec": {
   "display_name": "Python 3",
   "language": "python",
   "name": "python3"
  },
  "language_info": {
   "codemirror_mode": {
    "name": "ipython",
    "version": 3
   },
   "file_extension": ".py",
   "mimetype": "text/x-python",
   "name": "python",
   "nbconvert_exporter": "python",
   "pygments_lexer": "ipython3",
   "version": "3.12.3"
  }
 },
 "nbformat": 4,
 "nbformat_minor": 5
}
